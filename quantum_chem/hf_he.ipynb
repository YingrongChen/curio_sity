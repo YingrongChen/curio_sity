{
 "cells": [
  {
   "cell_type": "markdown",
   "metadata": {},
   "source": [
    "1) Specify system and basis set"
   ]
  },
  {
   "cell_type": "code",
   "execution_count": null,
   "metadata": {},
   "outputs": [],
   "source": [
    "phi_1 = 0.3696 * e^(-0.4166 (r - R_1)^2)\n",
    "phi_2 = 0.5881 * e^(-0.7739 (r - R_2)^2)\n",
    "Multiplicity = 1 # 2S+1, S for unpaired electrons"
   ]
  },
  {
   "cell_type": "markdown",
   "metadata": {},
   "source": [
    "2) Calculate One and Two-Electron Integrals\n",
    "- One-Electron Integrals: \n",
    "    - Kinetic Energy:\n",
    "        $T_{\\mu\\nu} = \\int \\phi_{\\mu}(-\\frac{1}{2}\\nabla^2)\\phi_{\\nu} d\\tau$\n",
    "    - Potential Energy:\n",
    "        $V_{\\mu\\nu} = \\int \\phi_{\\mu}(\\frac{Z_{H}}{r_{H1}})\\phi_{\\nu} d\\tau$\n",
    "    \n",
    "    where $r_{H1}$ represents the distance of an electron from the hydrogen nucleus and $r_{He1}$ represents the distance of an electron from the helium nucleus.\n",
    "\n"
   ]
  },
  {
   "cell_type": "code",
   "execution_count": null,
   "metadata": {},
   "outputs": [],
   "source": [
    "T11 = integral(phi_1 * phi_1 * r^2, r, 0, 1)"
   ]
  },
  {
   "cell_type": "markdown",
   "metadata": {},
   "source": []
  }
 ],
 "metadata": {
  "language_info": {
   "name": "python"
  }
 },
 "nbformat": 4,
 "nbformat_minor": 2
}
